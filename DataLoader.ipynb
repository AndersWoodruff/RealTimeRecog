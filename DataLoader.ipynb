{
 "cells": [
  {
   "cell_type": "code",
   "execution_count": null,
   "id": "e2a1f1e0-a59e-4e85-a3a2-298bd28c5beb",
   "metadata": {},
   "outputs": [],
   "source": [
    "%pip install kagglehub\n",
    "%pip install torchaudio\n",
    "import kagglehub\n",
    "\n",
    "# Download latest version\n",
    "path = kagglehub.dataset_download(\"uwrfkaggler/ravdess-emotional-speech-audio\")\n",
    "\n",
    "print(\"Path to dataset files:\", path)"
   ]
  },
  {
   "cell_type": "code",
   "execution_count": null,
   "id": "3b45c932-6a44-44ce-8862-54fcea70fb95",
   "metadata": {},
   "outputs": [],
   "source": [
    "import torchaudio as ta\n",
    "from torch.utils.data import Dataset, DataLoader\n",
    "import os  "
   ]
  },
  {
   "cell_type": "code",
   "execution_count": null,
   "id": "9b919e8c-d760-47ec-a763-0bac678997a9",
   "metadata": {},
   "outputs": [],
   "source": [
    "class SpeechDataset(Dataset):\n",
    "    \"\"\"Face Landmarks dataset.\"\"\"\n",
    "\n",
    "    def __init__(self, root_dir, transform=None):\n",
    "        \"\"\"\n",
    "        Arguments:\n",
    "            root_dir (string): Directory with all the audio.\n",
    "            transform (callable, optional): Optional transform to be applied\n",
    "                on a sample.\n",
    "        \"\"\"\n",
    "        self.root_dir = root_dir\n",
    "        self.transform = transform        \n",
    "        _, _, self.filelist = os.walk(self.root_dir)\n",
    "        self.filelist = np.array(self.filelist)\n",
    "\n",
    "\n",
    "    def __len__(self):\n",
    "        return len(self.filelist)\n",
    "\n",
    "    def __getitem__(self, idx):\n",
    "        if torch.is_tensor(idx):\n",
    "            idx = idx.tolist()\n",
    "        \n",
    "        path = os.path.join(self.root_dir, self.filelist[idx])\n",
    "        \n",
    "        label = os.path.basename(path)\n",
    "        \n",
    "        mod, chan, emo, inten, state, repit, act = str(label).split(\"-\")\n",
    "        audio = ta.load(path)\n",
    "        emotiontensor = t.array(int(emo))\n",
    "        sample = {'audio': audio, 'emotion': emotiontensor}\n",
    "\n",
    "        if self.transform:\n",
    "            sample = self.transform(sample)\n",
    "\n",
    "        return sample"
   ]
  }
 ],
 "metadata": {
  "kernelspec": {
   "display_name": "python-3.7.10",
   "language": "python",
   "name": "python-3.7.10"
  },
  "language_info": {
   "codemirror_mode": {
    "name": "ipython",
    "version": 3
   },
   "file_extension": ".py",
   "mimetype": "text/x-python",
   "name": "python",
   "nbconvert_exporter": "python",
   "pygments_lexer": "ipython3",
   "version": "3.7.10"
  }
 },
 "nbformat": 4,
 "nbformat_minor": 5
}
